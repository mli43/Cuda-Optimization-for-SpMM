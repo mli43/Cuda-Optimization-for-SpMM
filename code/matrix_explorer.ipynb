{
 "cells": [
  {
   "cell_type": "code",
   "execution_count": 2,
   "id": "3a038ada-a513-4c63-805d-724e3328725e",
   "metadata": {},
   "outputs": [],
   "source": [
    "import ssgetpy"
   ]
  },
  {
   "cell_type": "code",
   "execution_count": 3,
   "id": "447ac97d-d56a-4fee-971d-431e4a2759c4",
   "metadata": {
    "collapsed": true,
    "jupyter": {
     "outputs_hidden": true
    },
    "tags": []
   },
   "outputs": [
    {
     "data": {
      "text/html": [
       "<table><thead><th>Id</th><th>Group</th><th>Name</th><th>Rows</th><th>Cols</th><th>NNZ</th><th>DType</th><th>2D/3D Discretization?</th><th>SPD?</th><th>Pattern Symmetry</th><th>Numerical Symmetry</th><th>Kind</th><th>Spy Plot</th></thead><tbody><tr><td>1</td><td><a href=\"https://sparse.tamu.edu/HB\" target=\"_blank\">HB</a></td><td><a href=\"https://sparse.tamu.edu/HB/1138_bus\" target=\"_blank\">1138_bus</a></td><td>1138</td><td>1138</td><td>4054</td><td>real</td><td>No</td><td>Yes</td><td>1.0</td><td>1.0</td><td>power network problem</td><td><img src=\"https://sparse.tamu.edu/files/HB/1138_bus.png\"></td></tr><tr><td>2</td><td><a href=\"https://sparse.tamu.edu/HB\" target=\"_blank\">HB</a></td><td><a href=\"https://sparse.tamu.edu/HB/494_bus\" target=\"_blank\">494_bus</a></td><td>494</td><td>494</td><td>1666</td><td>real</td><td>No</td><td>Yes</td><td>1.0</td><td>1.0</td><td>power network problem</td><td><img src=\"https://sparse.tamu.edu/files/HB/494_bus.png\"></td></tr><tr><td>3</td><td><a href=\"https://sparse.tamu.edu/HB\" target=\"_blank\">HB</a></td><td><a href=\"https://sparse.tamu.edu/HB/662_bus\" target=\"_blank\">662_bus</a></td><td>662</td><td>662</td><td>2474</td><td>real</td><td>No</td><td>Yes</td><td>1.0</td><td>1.0</td><td>power network problem</td><td><img src=\"https://sparse.tamu.edu/files/HB/662_bus.png\"></td></tr><tr><td>4</td><td><a href=\"https://sparse.tamu.edu/HB\" target=\"_blank\">HB</a></td><td><a href=\"https://sparse.tamu.edu/HB/685_bus\" target=\"_blank\">685_bus</a></td><td>685</td><td>685</td><td>3249</td><td>real</td><td>No</td><td>Yes</td><td>1.0</td><td>1.0</td><td>power network problem</td><td><img src=\"https://sparse.tamu.edu/files/HB/685_bus.png\"></td></tr><tr><td>5</td><td><a href=\"https://sparse.tamu.edu/HB\" target=\"_blank\">HB</a></td><td><a href=\"https://sparse.tamu.edu/HB/abb313\" target=\"_blank\">abb313</a></td><td>313</td><td>176</td><td>1557</td><td>binary</td><td>No</td><td>No</td><td>0.0</td><td>0.0</td><td>least squares problem</td><td><img src=\"https://sparse.tamu.edu/files/HB/abb313.png\"></td></tr><tr><td>6</td><td><a href=\"https://sparse.tamu.edu/HB\" target=\"_blank\">HB</a></td><td><a href=\"https://sparse.tamu.edu/HB/arc130\" target=\"_blank\">arc130</a></td><td>130</td><td>130</td><td>1037</td><td>real</td><td>Yes</td><td>No</td><td>0.76</td><td>0.0</td><td>materials problem</td><td><img src=\"https://sparse.tamu.edu/files/HB/arc130.png\"></td></tr><tr><td>7</td><td><a href=\"https://sparse.tamu.edu/HB\" target=\"_blank\">HB</a></td><td><a href=\"https://sparse.tamu.edu/HB/ash219\" target=\"_blank\">ash219</a></td><td>219</td><td>85</td><td>438</td><td>binary</td><td>No</td><td>No</td><td>0.0</td><td>0.0</td><td>least squares problem</td><td><img src=\"https://sparse.tamu.edu/files/HB/ash219.png\"></td></tr><tr><td>8</td><td><a href=\"https://sparse.tamu.edu/HB\" target=\"_blank\">HB</a></td><td><a href=\"https://sparse.tamu.edu/HB/ash292\" target=\"_blank\">ash292</a></td><td>292</td><td>292</td><td>2208</td><td>binary</td><td>No</td><td>No</td><td>1.0</td><td>1.0</td><td>least squares problem</td><td><img src=\"https://sparse.tamu.edu/files/HB/ash292.png\"></td></tr><tr><td>9</td><td><a href=\"https://sparse.tamu.edu/HB\" target=\"_blank\">HB</a></td><td><a href=\"https://sparse.tamu.edu/HB/ash331\" target=\"_blank\">ash331</a></td><td>331</td><td>104</td><td>662</td><td>binary</td><td>No</td><td>No</td><td>0.0</td><td>0.0</td><td>least squares problem</td><td><img src=\"https://sparse.tamu.edu/files/HB/ash331.png\"></td></tr><tr><td>10</td><td><a href=\"https://sparse.tamu.edu/HB\" target=\"_blank\">HB</a></td><td><a href=\"https://sparse.tamu.edu/HB/ash608\" target=\"_blank\">ash608</a></td><td>608</td><td>188</td><td>1216</td><td>binary</td><td>No</td><td>No</td><td>0.0</td><td>0.0</td><td>least squares problem</td><td><img src=\"https://sparse.tamu.edu/files/HB/ash608.png\"></td></tr></tbody></table>"
      ],
      "text/plain": [
       "[Matrix(1, 'HB', '1138_bus', 1138, 1138, 4054, 'real', False, True, 1.0, 1.0, 'power network problem', 'https://sparse.tamu.edu/files/HB/1138_bus.png'),\n",
       " Matrix(2, 'HB', '494_bus', 494, 494, 1666, 'real', False, True, 1.0, 1.0, 'power network problem', 'https://sparse.tamu.edu/files/HB/494_bus.png'),\n",
       " Matrix(3, 'HB', '662_bus', 662, 662, 2474, 'real', False, True, 1.0, 1.0, 'power network problem', 'https://sparse.tamu.edu/files/HB/662_bus.png'),\n",
       " Matrix(4, 'HB', '685_bus', 685, 685, 3249, 'real', False, True, 1.0, 1.0, 'power network problem', 'https://sparse.tamu.edu/files/HB/685_bus.png'),\n",
       " Matrix(5, 'HB', 'abb313', 313, 176, 1557, 'binary', False, False, 0.0, 0.0, 'least squares problem', 'https://sparse.tamu.edu/files/HB/abb313.png'),\n",
       " Matrix(6, 'HB', 'arc130', 130, 130, 1037, 'real', True, False, 0.7586805555555556, 0.0, 'materials problem', 'https://sparse.tamu.edu/files/HB/arc130.png'),\n",
       " Matrix(7, 'HB', 'ash219', 219, 85, 438, 'binary', False, False, 0.0, 0.0, 'least squares problem', 'https://sparse.tamu.edu/files/HB/ash219.png'),\n",
       " Matrix(8, 'HB', 'ash292', 292, 292, 2208, 'binary', False, False, 1.0, 1.0, 'least squares problem', 'https://sparse.tamu.edu/files/HB/ash292.png'),\n",
       " Matrix(9, 'HB', 'ash331', 331, 104, 662, 'binary', False, False, 0.0, 0.0, 'least squares problem', 'https://sparse.tamu.edu/files/HB/ash331.png'),\n",
       " Matrix(10, 'HB', 'ash608', 608, 188, 1216, 'binary', False, False, 0.0, 0.0, 'least squares problem', 'https://sparse.tamu.edu/files/HB/ash608.png')]"
      ]
     },
     "execution_count": 3,
     "metadata": {},
     "output_type": "execute_result"
    }
   ],
   "source": [
    "ssgetpy.search()"
   ]
  },
  {
   "cell_type": "code",
   "execution_count": 5,
   "id": "d8a8a778-e3a2-4343-8df5-859e02cb017d",
   "metadata": {
    "collapsed": true,
    "jupyter": {
     "outputs_hidden": true
    },
    "tags": []
   },
   "outputs": [
    {
     "data": {
      "text/html": [
       "<table><thead><th>Id</th><th>Group</th><th>Name</th><th>Rows</th><th>Cols</th><th>NNZ</th><th>DType</th><th>2D/3D Discretization?</th><th>SPD?</th><th>Pattern Symmetry</th><th>Numerical Symmetry</th><th>Kind</th><th>Spy Plot</th></thead><tbody><tr><td>924</td><td><a href=\"https://sparse.tamu.edu/Andrews\" target=\"_blank\">Andrews</a></td><td><a href=\"https://sparse.tamu.edu/Andrews/Andrews\" target=\"_blank\">Andrews</a></td><td>60000</td><td>60000</td><td>760154</td><td>real</td><td>Yes</td><td>Yes</td><td>1.0</td><td>1.0</td><td>computer graphics/vision problem</td><td><img src=\"https://sparse.tamu.edu/files/Andrews/Andrews.png\"></td></tr><tr><td>981</td><td><a href=\"https://sparse.tamu.edu/Sumner\" target=\"_blank\">Sumner</a></td><td><a href=\"https://sparse.tamu.edu/Sumner/graphics\" target=\"_blank\">graphics</a></td><td>29493</td><td>11822</td><td>117954</td><td>real</td><td>Yes</td><td>No</td><td>0.0</td><td>0.0</td><td>computer graphics/vision problem</td><td><img src=\"https://sparse.tamu.edu/files/Sumner/graphics.png\"></td></tr><tr><td>1317</td><td><a href=\"https://sparse.tamu.edu/Bydder\" target=\"_blank\">Bydder</a></td><td><a href=\"https://sparse.tamu.edu/Bydder/mri1\" target=\"_blank\">mri1</a></td><td>65536</td><td>147456</td><td>589824</td><td>real</td><td>Yes</td><td>No</td><td>0.0</td><td>0.0</td><td>computer graphics/vision problem</td><td><img src=\"https://sparse.tamu.edu/files/Bydder/mri1.png\"></td></tr><tr><td>1318</td><td><a href=\"https://sparse.tamu.edu/Bydder\" target=\"_blank\">Bydder</a></td><td><a href=\"https://sparse.tamu.edu/Bydder/mri2\" target=\"_blank\">mri2</a></td><td>63240</td><td>147456</td><td>569160</td><td>real</td><td>Yes</td><td>No</td><td>0.0</td><td>0.0</td><td>computer graphics/vision problem</td><td><img src=\"https://sparse.tamu.edu/files/Bydder/mri2.png\"></td></tr><tr><td>1328</td><td><a href=\"https://sparse.tamu.edu/MathWorks\" target=\"_blank\">MathWorks</a></td><td><a href=\"https://sparse.tamu.edu/MathWorks/tomography\" target=\"_blank\">tomography</a></td><td>500</td><td>500</td><td>28726</td><td>real</td><td>Yes</td><td>No</td><td>1.0</td><td>0.93</td><td>computer graphics/vision problem</td><td><img src=\"https://sparse.tamu.edu/files/MathWorks/tomography.png\"></td></tr><tr><td>1329</td><td><a href=\"https://sparse.tamu.edu/Kemelmacher\" target=\"_blank\">Kemelmacher</a></td><td><a href=\"https://sparse.tamu.edu/Kemelmacher/Kemelmacher\" target=\"_blank\">Kemelmacher</a></td><td>28452</td><td>9693</td><td>100875</td><td>real</td><td>Yes</td><td>No</td><td>0.0</td><td>0.0</td><td>computer graphics/vision problem</td><td><img src=\"https://sparse.tamu.edu/files/Kemelmacher/Kemelmacher.png\"></td></tr><tr><td>1347</td><td><a href=\"https://sparse.tamu.edu/Lourakis\" target=\"_blank\">Lourakis</a></td><td><a href=\"https://sparse.tamu.edu/Lourakis/bundle1\" target=\"_blank\">bundle1</a></td><td>10581</td><td>10581</td><td>770811</td><td>real</td><td>Yes</td><td>Yes</td><td>1.0</td><td>1.0</td><td>computer graphics/vision problem</td><td><img src=\"https://sparse.tamu.edu/files/Lourakis/bundle1.png\"></td></tr><tr><td>1895</td><td><a href=\"https://sparse.tamu.edu/Luong\" target=\"_blank\">Luong</a></td><td><a href=\"https://sparse.tamu.edu/Luong/photogrammetry\" target=\"_blank\">photogrammetry</a></td><td>1388</td><td>390</td><td>11816</td><td>real</td><td>Yes</td><td>No</td><td>0.0</td><td>0.0</td><td>computer graphics/vision problem</td><td><img src=\"https://sparse.tamu.edu/files/Luong/photogrammetry.png\"></td></tr><tr><td>1918</td><td><a href=\"https://sparse.tamu.edu/Luong\" target=\"_blank\">Luong</a></td><td><a href=\"https://sparse.tamu.edu/Luong/photogrammetry2\" target=\"_blank\">photogrammetry2</a></td><td>4472</td><td>936</td><td>37056</td><td>real</td><td>Yes</td><td>No</td><td>0.0</td><td>0.0</td><td>computer graphics/vision problem</td><td><img src=\"https://sparse.tamu.edu/files/Luong/photogrammetry2.png\"></td></tr><tr><td>2248</td><td><a href=\"https://sparse.tamu.edu/Yoshiyasu\" target=\"_blank\">Yoshiyasu</a></td><td><a href=\"https://sparse.tamu.edu/Yoshiyasu/image_interp\" target=\"_blank\">image_interp</a></td><td>240000</td><td>120000</td><td>711683</td><td>real</td><td>Yes</td><td>No</td><td>0.0</td><td>0.0</td><td>computer graphics/vision problem</td><td><img src=\"https://sparse.tamu.edu/files/Yoshiyasu/image_interp.png\"></td></tr></tbody></table>"
      ],
      "text/plain": [
       "[Matrix(924, 'Andrews', 'Andrews', 60000, 60000, 760154, 'real', True, True, 1.0, 1.0, 'computer graphics/vision problem', 'https://sparse.tamu.edu/files/Andrews/Andrews.png'),\n",
       " Matrix(981, 'Sumner', 'graphics', 29493, 11822, 117954, 'real', True, False, 0.0, 0.0, 'computer graphics/vision problem', 'https://sparse.tamu.edu/files/Sumner/graphics.png'),\n",
       " Matrix(1317, 'Bydder', 'mri1', 65536, 147456, 589824, 'real', True, False, 0.0, 0.0, 'computer graphics/vision problem', 'https://sparse.tamu.edu/files/Bydder/mri1.png'),\n",
       " Matrix(1318, 'Bydder', 'mri2', 63240, 147456, 569160, 'real', True, False, 0.0, 0.0, 'computer graphics/vision problem', 'https://sparse.tamu.edu/files/Bydder/mri2.png'),\n",
       " Matrix(1328, 'MathWorks', 'tomography', 500, 500, 28726, 'real', True, False, 1.0, 0.9331113158081201, 'computer graphics/vision problem', 'https://sparse.tamu.edu/files/MathWorks/tomography.png'),\n",
       " Matrix(1329, 'Kemelmacher', 'Kemelmacher', 28452, 9693, 100875, 'real', True, False, 0.0, 0.0, 'computer graphics/vision problem', 'https://sparse.tamu.edu/files/Kemelmacher/Kemelmacher.png'),\n",
       " Matrix(1347, 'Lourakis', 'bundle1', 10581, 10581, 770811, 'real', True, True, 1.0, 1.0, 'computer graphics/vision problem', 'https://sparse.tamu.edu/files/Lourakis/bundle1.png'),\n",
       " Matrix(1895, 'Luong', 'photogrammetry', 1388, 390, 11816, 'real', True, False, 0.0, 0.0, 'computer graphics/vision problem', 'https://sparse.tamu.edu/files/Luong/photogrammetry.png'),\n",
       " Matrix(1918, 'Luong', 'photogrammetry2', 4472, 936, 37056, 'real', True, False, 0.0, 0.0, 'computer graphics/vision problem', 'https://sparse.tamu.edu/files/Luong/photogrammetry2.png'),\n",
       " Matrix(2248, 'Yoshiyasu', 'image_interp', 240000, 120000, 711683, 'real', True, False, 0.0, 0.0, 'computer graphics/vision problem', 'https://sparse.tamu.edu/files/Yoshiyasu/image_interp.png')]"
      ]
     },
     "execution_count": 5,
     "metadata": {},
     "output_type": "execute_result"
    }
   ],
   "source": [
    "ssgetpy.search(dtype='real', kind='graphics')"
   ]
  },
  {
   "cell_type": "code",
   "execution_count": 8,
   "id": "17d8f1e1-c269-489b-9abd-77f1732fcf11",
   "metadata": {},
   "outputs": [],
   "source": [
    "test = ssgetpy.fetch(1328)"
   ]
  },
  {
   "cell_type": "code",
   "execution_count": 9,
   "id": "e0277c6f-d791-4c31-9b9e-f64caeaaa3e4",
   "metadata": {},
   "outputs": [
    {
     "data": {
      "text/html": [
       "<table><thead><th>Id</th><th>Group</th><th>Name</th><th>Rows</th><th>Cols</th><th>NNZ</th><th>DType</th><th>2D/3D Discretization?</th><th>SPD?</th><th>Pattern Symmetry</th><th>Numerical Symmetry</th><th>Kind</th><th>Spy Plot</th></thead><tbody><tr><td>1328</td><td><a href=\"https://sparse.tamu.edu/MathWorks\" target=\"_blank\">MathWorks</a></td><td><a href=\"https://sparse.tamu.edu/MathWorks/tomography\" target=\"_blank\">tomography</a></td><td>500</td><td>500</td><td>28726</td><td>real</td><td>Yes</td><td>No</td><td>1.0</td><td>0.93</td><td>computer graphics/vision problem</td><td><img src=\"https://sparse.tamu.edu/files/MathWorks/tomography.png\"></td></tr></tbody></table>"
      ],
      "text/plain": [
       "[Matrix(1328, 'MathWorks', 'tomography', 500, 500, 28726, 'real', True, False, 1.0, 0.9331113158081201, 'computer graphics/vision problem', 'https://sparse.tamu.edu/files/MathWorks/tomography.png')]"
      ]
     },
     "execution_count": 9,
     "metadata": {},
     "output_type": "execute_result"
    }
   ],
   "source": [
    "test"
   ]
  },
  {
   "cell_type": "code",
   "execution_count": 15,
   "id": "0783cada-e8f2-4622-b55f-401c365861ae",
   "metadata": {},
   "outputs": [
    {
     "data": {
      "application/vnd.jupyter.widget-view+json": {
       "model_id": "19f3b031243c463c9b315e3e86b38e52",
       "version_major": 2,
       "version_minor": 0
      },
      "text/plain": [
       "Overall progress:   0%|          | 0/1 [00:00<?, ?it/s]"
      ]
     },
     "metadata": {},
     "output_type": "display_data"
    },
    {
     "data": {
      "application/vnd.jupyter.widget-view+json": {
       "model_id": "1e7dde4503d94475bfe4b3c2328c5f3b",
       "version_major": 2,
       "version_minor": 0
      },
      "text/plain": [
       "tomography:   0%|          | 0/277324 [00:00<?, ?B/s]"
      ]
     },
     "metadata": {},
     "output_type": "display_data"
    }
   ],
   "source": [
    "test.download(format = 'MM', destpath='.')"
   ]
  },
  {
   "cell_type": "code",
   "execution_count": null,
   "id": "066e4529-cce4-45d2-b37b-cd08b37197e7",
   "metadata": {},
   "outputs": [],
   "source": []
  },
  {
   "cell_type": "code",
   "execution_count": null,
   "id": "4bb664c5-c5bd-4d8a-9b38-e931d1fa3a57",
   "metadata": {},
   "outputs": [],
   "source": []
  },
  {
   "cell_type": "code",
   "execution_count": 5,
   "id": "8fe3fc6e-7091-4780-a1bb-6ef96a9d8ba6",
   "metadata": {},
   "outputs": [
    {
     "data": {
      "text/html": [
       "<table><thead><th>Id</th><th>Group</th><th>Name</th><th>Rows</th><th>Cols</th><th>NNZ</th><th>DType</th><th>2D/3D Discretization?</th><th>SPD?</th><th>Pattern Symmetry</th><th>Numerical Symmetry</th><th>Kind</th><th>Spy Plot</th></thead><tbody><tr><td>238</td><td><a href=\"https://sparse.tamu.edu/HB\" target=\"_blank\">HB</a></td><td><a href=\"https://sparse.tamu.edu/HB/rgg010\" target=\"_blank\">rgg010</a></td><td>10</td><td>10</td><td>76</td><td>binary</td><td>No</td><td>No</td><td>0.64</td><td>0.64</td><td>counter-example problem</td><td><img src=\"https://sparse.tamu.edu/files/HB/rgg010.png\"></td></tr><tr><td>1524</td><td><a href=\"https://sparse.tamu.edu/Pajek\" target=\"_blank\">Pajek</a></td><td><a href=\"https://sparse.tamu.edu/Pajek/Stranke94\" target=\"_blank\">Stranke94</a></td><td>10</td><td>10</td><td>90</td><td>real</td><td>No</td><td>No</td><td>1.0</td><td>1.0</td><td>undirected weighted graph</td><td><img src=\"https://sparse.tamu.edu/files/Pajek/Stranke94.png\"></td></tr></tbody></table>"
      ],
      "text/plain": [
       "[Matrix(238, 'HB', 'rgg010', 10, 10, 76, 'binary', False, False, 0.6363636363636364, 0.6363636363636364, 'counter-example problem', 'https://sparse.tamu.edu/files/HB/rgg010.png'),\n",
       " Matrix(1524, 'Pajek', 'Stranke94', 10, 10, 90, 'real', False, False, 1.0, 1.0, 'undirected weighted graph', 'https://sparse.tamu.edu/files/Pajek/Stranke94.png')]"
      ]
     },
     "execution_count": 5,
     "metadata": {},
     "output_type": "execute_result"
    }
   ],
   "source": [
    "small = ssgetpy.search(rowbounds = (10, 10), colbounds = (10, 10),  limit = 50)\n",
    "#small = ssgetpy.search(nzbounds = (None, 100))\n",
    "small"
   ]
  },
  {
   "cell_type": "code",
   "execution_count": 45,
   "id": "08cc73cd-6a8c-44d7-86a2-d5637b2c4633",
   "metadata": {},
   "outputs": [
    {
     "data": {
      "application/vnd.jupyter.widget-view+json": {
       "model_id": "55adf3b2260a408892ed260455ec980a",
       "version_major": 2,
       "version_minor": 0
      },
      "text/plain": [
       "Overall progress:   0%|          | 0/2 [00:00<?, ?it/s]"
      ]
     },
     "metadata": {},
     "output_type": "display_data"
    },
    {
     "data": {
      "application/vnd.jupyter.widget-view+json": {
       "model_id": "d9343182553a44039cd6755fcfd670e6",
       "version_major": 2,
       "version_minor": 0
      },
      "text/plain": [
       "rgg010:   0%|          | 0/591 [00:00<?, ?B/s]"
      ]
     },
     "metadata": {},
     "output_type": "display_data"
    },
    {
     "data": {
      "application/vnd.jupyter.widget-view+json": {
       "model_id": "ec29bd37e7774f2a91c36bf9920168ef",
       "version_major": 2,
       "version_minor": 0
      },
      "text/plain": [
       "Stranke94:   0%|          | 0/1310 [00:00<?, ?B/s]"
      ]
     },
     "metadata": {},
     "output_type": "display_data"
    }
   ],
   "source": [
    "small.download(format = 'MM', destpath='./small_10x10', extract=True)"
   ]
  },
  {
   "cell_type": "code",
   "execution_count": null,
   "id": "aa8df4c7-91a8-466b-ac18-b49c077d6a37",
   "metadata": {},
   "outputs": [],
   "source": []
  },
  {
   "cell_type": "code",
   "execution_count": null,
   "id": "4840ea77-4409-48ac-8d90-1e982aac1b63",
   "metadata": {},
   "outputs": [],
   "source": []
  },
  {
   "cell_type": "code",
   "execution_count": null,
   "id": "38a0ecc3-5cbd-495c-a3e0-ca71ed5898ae",
   "metadata": {},
   "outputs": [],
   "source": []
  },
  {
   "cell_type": "code",
   "execution_count": 6,
   "id": "8a5165c0-bc2e-4a01-8708-eee67fcba531",
   "metadata": {},
   "outputs": [],
   "source": [
    "from scipy.io import mmread"
   ]
  },
  {
   "cell_type": "code",
   "execution_count": 9,
   "id": "f7c3c6ce-f356-4fb5-9449-4e5293e1888f",
   "metadata": {},
   "outputs": [
    {
     "name": "stdout",
     "output_type": "stream",
     "text": [
      "/c/Users/Katel/Documents/Documents/Docs/Colleges/CMU/15-618-parallalProgramming/Cuda-Optimization-for-SpMM/code\n"
     ]
    }
   ],
   "source": [
    "!pwd"
   ]
  },
  {
   "cell_type": "code",
   "execution_count": 14,
   "id": "25c75ee6-2a22-4ec7-99f2-25d1708ad857",
   "metadata": {},
   "outputs": [
    {
     "data": {
      "text/plain": [
       "10"
      ]
     },
     "metadata": {},
     "output_type": "display_data"
    },
    {
     "name": "stdout",
     "output_type": "stream",
     "text": [
      "  (0, 1)\t-215\n",
      "  (0, 2)\t114\n",
      "  (0, 3)\t-89\n",
      "  (0, 4)\t-77\n",
      "  (0, 5)\t94\n",
      "  (0, 6)\t-170\n",
      "  (0, 7)\t176\n",
      "  (0, 8)\t117\n",
      "  (0, 9)\t-210\n",
      "  (1, 0)\t-215\n",
      "  (1, 2)\t-217\n",
      "  (1, 3)\t134\n",
      "  (1, 4)\t77\n",
      "  (1, 5)\t-150\n",
      "  (1, 6)\t57\n",
      "  (1, 7)\t-253\n",
      "  (1, 8)\t-230\n",
      "  (1, 9)\t49\n",
      "  (2, 0)\t114\n",
      "  (2, 1)\t-217\n",
      "  (2, 3)\t-203\n",
      "  (2, 4)\t-80\n",
      "  (2, 5)\t138\n",
      "  (2, 6)\t-109\n",
      "  (2, 7)\t177\n",
      "  :\t:\n",
      "  (7, 2)\t177\n",
      "  (7, 3)\t-241\n",
      "  (7, 4)\t-120\n",
      "  (7, 5)\t140\n",
      "  (7, 6)\t-184\n",
      "  (7, 8)\t235\n",
      "  (7, 9)\t-132\n",
      "  (8, 0)\t117\n",
      "  (8, 1)\t-230\n",
      "  (8, 2)\t180\n",
      "  (8, 3)\t-254\n",
      "  (8, 4)\t-160\n",
      "  (8, 5)\t116\n",
      "  (8, 6)\t-191\n",
      "  (8, 7)\t235\n",
      "  (8, 9)\t-164\n",
      "  (9, 0)\t-210\n",
      "  (9, 1)\t49\n",
      "  (9, 2)\t-174\n",
      "  (9, 3)\t23\n",
      "  (9, 4)\t-9\n",
      "  (9, 5)\t-106\n",
      "  (9, 6)\t-6\n",
      "  (9, 7)\t-132\n",
      "  (9, 8)\t-164\n"
     ]
    }
   ],
   "source": [
    "matrix = mmread('small_10x10/sparse.mtx')\n",
    "display(matrix.shape[0])\n",
    "print(matrix.tocsr())"
   ]
  },
  {
   "cell_type": "code",
   "execution_count": null,
   "id": "e0883116-5a9c-4fee-a301-8111a377867c",
   "metadata": {},
   "outputs": [],
   "source": []
  }
 ],
 "metadata": {
  "kernelspec": {
   "display_name": "Python 3 (ipykernel)",
   "language": "python",
   "name": "python3"
  },
  "language_info": {
   "codemirror_mode": {
    "name": "ipython",
    "version": 3
   },
   "file_extension": ".py",
   "mimetype": "text/x-python",
   "name": "python",
   "nbconvert_exporter": "python",
   "pygments_lexer": "ipython3",
   "version": "3.9.13"
  }
 },
 "nbformat": 4,
 "nbformat_minor": 5
}
